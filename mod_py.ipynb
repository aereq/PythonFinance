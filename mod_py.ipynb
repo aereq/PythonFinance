{
  "nbformat": 4,
  "nbformat_minor": 0,
  "metadata": {
    "colab": {
      "provenance": [],
      "authorship_tag": "ABX9TyP2iCh7xRUUnUTCC1lSpArS",
      "include_colab_link": true
    },
    "kernelspec": {
      "name": "python3",
      "display_name": "Python 3"
    },
    "language_info": {
      "name": "python"
    }
  },
  "cells": [
    {
      "cell_type": "markdown",
      "metadata": {
        "id": "view-in-github",
        "colab_type": "text"
      },
      "source": [
        "<a href=\"https://colab.research.google.com/github/aereq/PythonFinance/blob/main/mod_py.ipynb\" target=\"_parent\"><img src=\"https://colab.research.google.com/assets/colab-badge.svg\" alt=\"Open In Colab\"/></a>"
      ]
    },
    {
      "cell_type": "markdown",
      "source": [
        "# **function stock_return_risk()**"
      ],
      "metadata": {
        "id": "PTM-zw1JfvGY"
      }
    },
    {
      "cell_type": "code",
      "execution_count": 1,
      "metadata": {
        "id": "HczotTP5c6Hw"
      },
      "outputs": [],
      "source": [
        "import numpy as np\n",
        "import pandas as pd\n",
        "import matplotlib.pyplot as plt\n",
        "import yfinance as yf"
      ]
    },
    {
      "cell_type": "code",
      "source": [
        "def stock_return_risk(ticker):\n",
        "    data = yf.download(ticker, period=\"10y\", interval=\"1d\")\n",
        "    if data.empty:\n",
        "        raise ValueError(f\"No data found for ticker {ticker}\")\n",
        "    data = data['Adj Close']\n",
        "    daily_returns = data.pct_change().dropna()\n",
        "    avg_daily_return = daily_returns.mean()\n",
        "    daily_volatility = daily_returns.std()\n",
        "    trading_days = 252  # Approximate number of trading days in a year\n",
        "    avg_annual_return = (1 + avg_daily_return) ** trading_days - 1\n",
        "    annual_volatility = daily_volatility * np.sqrt(trading_days)\n",
        "\n",
        "    return avg_annual_return, annual_volatility"
      ],
      "metadata": {
        "id": "pQ-n-fijdF1e"
      },
      "execution_count": 7,
      "outputs": []
    },
    {
      "cell_type": "code",
      "source": [
        "print(stock_return_risk(\"AAPL\"))\n",
        "#shows annual return (0,3) then annual volatility (0,28)"
      ],
      "metadata": {
        "colab": {
          "base_uri": "https://localhost:8080/"
        },
        "id": "currPZ6ud87Z",
        "outputId": "851cfe3d-1653-4165-b1fc-b502296948a1"
      },
      "execution_count": 12,
      "outputs": [
        {
          "output_type": "stream",
          "name": "stderr",
          "text": [
            "\r[*********************100%***********************]  1 of 1 completed"
          ]
        },
        {
          "output_type": "stream",
          "name": "stdout",
          "text": [
            "(Ticker\n",
            "AAPL    0.307517\n",
            "dtype: float64, Ticker\n",
            "AAPL    0.284916\n",
            "dtype: float64)\n"
          ]
        },
        {
          "output_type": "stream",
          "name": "stderr",
          "text": [
            "\n"
          ]
        }
      ]
    },
    {
      "cell_type": "markdown",
      "source": [
        "# function portfolio_return()"
      ],
      "metadata": {
        "id": "AhMKLUL0f7nq"
      }
    },
    {
      "cell_type": "code",
      "source": [
        "def portfolio_return(securities, weights):\n",
        "    data = yf.download(securities, period=\"10y\", interval=\"1d\")['Adj Close']\n",
        "    if data.empty:\n",
        "        raise ValueError(\"No data found for the provided securities.\")\n",
        "    daily_returns = data.pct_change().dropna()\n",
        "    avg_daily_returns = daily_returns.mean()\n",
        "    trading_days = 252  # Approximate number of trading days in a year\n",
        "    avg_annual_returns = (1 + avg_daily_returns) ** trading_days - 1\n",
        "    portfolio_annual_return = np.dot(avg_annual_returns, weights)\n",
        "\n",
        "    return portfolio_annual_return"
      ],
      "metadata": {
        "id": "jswHT7Q_gOOK"
      },
      "execution_count": 13,
      "outputs": []
    },
    {
      "cell_type": "code",
      "source": [
        "print(portfolio_return([\"AAPL\", \"MSFT\"], np.array([0.6, 0.4])))"
      ],
      "metadata": {
        "colab": {
          "base_uri": "https://localhost:8080/"
        },
        "id": "CHghAmSThKj0",
        "outputId": "788f26b4-133d-4ff5-a0b4-31371b08c53a"
      },
      "execution_count": 14,
      "outputs": [
        {
          "output_type": "stream",
          "name": "stderr",
          "text": [
            "[*********************100%***********************]  2 of 2 completed"
          ]
        },
        {
          "output_type": "stream",
          "name": "stdout",
          "text": [
            "0.3113341925242826\n"
          ]
        },
        {
          "output_type": "stream",
          "name": "stderr",
          "text": [
            "\n"
          ]
        }
      ]
    }
  ]
}